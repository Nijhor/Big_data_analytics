{
  "nbformat": 4,
  "nbformat_minor": 0,
  "metadata": {
    "colab": {
      "provenance": [],
      "authorship_tag": "ABX9TyNHd/xzp13h+nOHPoz0JTWz",
      "include_colab_link": true
    },
    "kernelspec": {
      "name": "python3",
      "display_name": "Python 3"
    },
    "language_info": {
      "name": "python"
    }
  },
  "cells": [
    {
      "cell_type": "markdown",
      "metadata": {
        "id": "view-in-github",
        "colab_type": "text"
      },
      "source": [
        "<a href=\"https://colab.research.google.com/github/Nijhor/Big_data_analytics/blob/master/BIG_data_LAB1.ipynb\" target=\"_parent\"><img src=\"https://colab.research.google.com/assets/colab-badge.svg\" alt=\"Open In Colab\"/></a>"
      ]
    },
    {
      "cell_type": "code",
      "execution_count": 1,
      "metadata": {
        "colab": {
          "base_uri": "https://localhost:8080/"
        },
        "id": "fqsLnUZFGDd2",
        "outputId": "31e14fa4-55e3-412f-af4b-5157a06bac78"
      },
      "outputs": [
        {
          "output_type": "stream",
          "name": "stdout",
          "text": [
            "Reading package lists... Done\n",
            "Building dependency tree       \n",
            "Reading state information... Done\n",
            "The following packages will be REMOVED:\n",
            "  libnvidia-common-510\n",
            "0 upgraded, 0 newly installed, 1 to remove and 21 not upgraded.\n",
            "After this operation, 35.8 kB disk space will be freed.\n",
            "(Reading database ... 128126 files and directories currently installed.)\n",
            "Removing libnvidia-common-510 (510.108.03-0ubuntu1) ...\n",
            "Looking in indexes: https://pypi.org/simple, https://us-python.pkg.dev/colab-wheels/public/simple/\n",
            "Collecting pyspark\n",
            "  Downloading pyspark-3.3.2.tar.gz (281.4 MB)\n",
            "\u001b[2K     \u001b[90m━━━━━━━━━━━━━━━━━━━━━━━━━━━━━━━━━━━━━━━\u001b[0m \u001b[32m281.4/281.4 MB\u001b[0m \u001b[31m4.5 MB/s\u001b[0m eta \u001b[36m0:00:00\u001b[0m\n",
            "\u001b[?25h  Preparing metadata (setup.py) ... \u001b[?25l\u001b[?25hdone\n",
            "Collecting py4j==0.10.9.5\n",
            "  Downloading py4j-0.10.9.5-py2.py3-none-any.whl (199 kB)\n",
            "\u001b[2K     \u001b[90m━━━━━━━━━━━━━━━━━━━━━━━━━━━━━━━━━━━━━━\u001b[0m \u001b[32m199.7/199.7 KB\u001b[0m \u001b[31m14.5 MB/s\u001b[0m eta \u001b[36m0:00:00\u001b[0m\n",
            "\u001b[?25hBuilding wheels for collected packages: pyspark\n",
            "  Building wheel for pyspark (setup.py) ... \u001b[?25l\u001b[?25hdone\n",
            "  Created wheel for pyspark: filename=pyspark-3.3.2-py2.py3-none-any.whl size=281824025 sha256=7edf24db78167ea71140e0f493edd89b1707d72185b11895354a051c3624506a\n",
            "  Stored in directory: /root/.cache/pip/wheels/b1/59/a0/a1a0624b5e865fd389919c1a10f53aec9b12195d6747710baf\n",
            "Successfully built pyspark\n",
            "Installing collected packages: py4j, pyspark\n",
            "Successfully installed py4j-0.10.9.5 pyspark-3.3.2\n",
            "The following additional packages will be installed:\n",
            "  openjdk-8-jre-headless\n",
            "Suggested packages:\n",
            "  openjdk-8-demo openjdk-8-source libnss-mdns fonts-dejavu-extra\n",
            "  fonts-ipafont-gothic fonts-ipafont-mincho fonts-wqy-microhei\n",
            "  fonts-wqy-zenhei fonts-indic\n",
            "The following NEW packages will be installed:\n",
            "  openjdk-8-jdk-headless openjdk-8-jre-headless\n",
            "0 upgraded, 2 newly installed, 0 to remove and 21 not upgraded.\n",
            "Need to get 36.5 MB of archives.\n",
            "After this operation, 143 MB of additional disk space will be used.\n",
            "Selecting previously unselected package openjdk-8-jre-headless:amd64.\n",
            "(Reading database ... 128121 files and directories currently installed.)\n",
            "Preparing to unpack .../openjdk-8-jre-headless_8u352-ga-1~20.04_amd64.deb ...\n",
            "Unpacking openjdk-8-jre-headless:amd64 (8u352-ga-1~20.04) ...\n",
            "Selecting previously unselected package openjdk-8-jdk-headless:amd64.\n",
            "Preparing to unpack .../openjdk-8-jdk-headless_8u352-ga-1~20.04_amd64.deb ...\n",
            "Unpacking openjdk-8-jdk-headless:amd64 (8u352-ga-1~20.04) ...\n",
            "Setting up openjdk-8-jre-headless:amd64 (8u352-ga-1~20.04) ...\n",
            "update-alternatives: using /usr/lib/jvm/java-8-openjdk-amd64/jre/bin/orbd to provide /usr/bin/orbd (orbd) in auto mode\n",
            "update-alternatives: using /usr/lib/jvm/java-8-openjdk-amd64/jre/bin/servertool to provide /usr/bin/servertool (servertool) in auto mode\n",
            "update-alternatives: using /usr/lib/jvm/java-8-openjdk-amd64/jre/bin/tnameserv to provide /usr/bin/tnameserv (tnameserv) in auto mode\n",
            "Setting up openjdk-8-jdk-headless:amd64 (8u352-ga-1~20.04) ...\n",
            "update-alternatives: using /usr/lib/jvm/java-8-openjdk-amd64/bin/idlj to provide /usr/bin/idlj (idlj) in auto mode\n",
            "update-alternatives: using /usr/lib/jvm/java-8-openjdk-amd64/bin/wsimport to provide /usr/bin/wsimport (wsimport) in auto mode\n",
            "update-alternatives: using /usr/lib/jvm/java-8-openjdk-amd64/bin/jsadebugd to provide /usr/bin/jsadebugd (jsadebugd) in auto mode\n",
            "update-alternatives: using /usr/lib/jvm/java-8-openjdk-amd64/bin/native2ascii to provide /usr/bin/native2ascii (native2ascii) in auto mode\n",
            "update-alternatives: using /usr/lib/jvm/java-8-openjdk-amd64/bin/javah to provide /usr/bin/javah (javah) in auto mode\n",
            "update-alternatives: using /usr/lib/jvm/java-8-openjdk-amd64/bin/clhsdb to provide /usr/bin/clhsdb (clhsdb) in auto mode\n",
            "update-alternatives: using /usr/lib/jvm/java-8-openjdk-amd64/bin/xjc to provide /usr/bin/xjc (xjc) in auto mode\n",
            "update-alternatives: using /usr/lib/jvm/java-8-openjdk-amd64/bin/hsdb to provide /usr/bin/hsdb (hsdb) in auto mode\n",
            "update-alternatives: using /usr/lib/jvm/java-8-openjdk-amd64/bin/schemagen to provide /usr/bin/schemagen (schemagen) in auto mode\n",
            "update-alternatives: using /usr/lib/jvm/java-8-openjdk-amd64/bin/extcheck to provide /usr/bin/extcheck (extcheck) in auto mode\n",
            "update-alternatives: using /usr/lib/jvm/java-8-openjdk-amd64/bin/jhat to provide /usr/bin/jhat (jhat) in auto mode\n",
            "update-alternatives: using /usr/lib/jvm/java-8-openjdk-amd64/bin/wsgen to provide /usr/bin/wsgen (wsgen) in auto mode\n"
          ]
        }
      ],
      "source": [
        "!apt autoremove\n",
        "!pip install pyspark\n",
        "!pip install -U -q PyDrive\n",
        "!apt install openjdk-8-jdk-headless -qq\n",
        "\n",
        "import os\n",
        "os.environ[\"JAVA_HOME\"] = \"/usr/lib/jvm/java-8-openjdk-amd64\""
      ]
    },
    {
      "cell_type": "code",
      "source": [
        "from pydrive.auth import GoogleAuth\n",
        "from pydrive.drive import GoogleDrive\n",
        "from google.colab import auth\n",
        "from oauth2client.client import GoogleCredentials\n",
        "\n",
        "# Authenticate and create the PyDrive client\n",
        "auth.authenticate_user()\n",
        "gauth = GoogleAuth()\n",
        "gauth.credentials = GoogleCredentials.get_application_default()\n",
        "drive = GoogleDrive(gauth)"
      ],
      "metadata": {
        "id": "v4ZT4B9-GQeC"
      },
      "execution_count": 2,
      "outputs": []
    },
    {
      "cell_type": "code",
      "source": [
        "id='1L6pCQkldvdBoaEhRFzL0VnrggEFvqON4'\n",
        "downloaded = drive.CreateFile({'id': id}) \n",
        "downloaded.GetContentFile('Bombing_Operations.json.gz')\n",
        "\n",
        "id='14dyBmcTBA32uXPxDbqr0bFDIzGxMTWwl'\n",
        "downloaded = drive.CreateFile({'id': id}) \n",
        "downloaded.GetContentFile('Aircraft_Glossary.json.gz')  "
      ],
      "metadata": {
        "id": "Mc4CIwUrGUQw"
      },
      "execution_count": 3,
      "outputs": []
    },
    {
      "cell_type": "code",
      "source": [
        "# Let's import the libraries we will need\n",
        "import pandas as pd\n",
        "import numpy as np\n",
        "import matplotlib.pyplot as plt\n",
        "%matplotlib inline\n",
        "\n",
        "import pyspark\n",
        "from pyspark.sql import *\n",
        "from pyspark.sql.functions import *\n",
        "from pyspark import SparkContext, SparkConf"
      ],
      "metadata": {
        "id": "j4eIrH4YGXDI"
      },
      "execution_count": 4,
      "outputs": []
    },
    {
      "cell_type": "code",
      "source": [
        "# create the session\n",
        "conf = SparkConf().set(\"spark.ui.port\", \"4050\")\n",
        "\n",
        "# create the context\n",
        "sc = pyspark.SparkContext(conf=conf)\n",
        "spark = SparkSession.builder.getOrCreate()"
      ],
      "metadata": {
        "id": "U4S1oKDLGYqI"
      },
      "execution_count": 5,
      "outputs": []
    },
    {
      "cell_type": "code",
      "source": [
        "spark"
      ],
      "metadata": {
        "colab": {
          "base_uri": "https://localhost:8080/",
          "height": 219
        },
        "id": "N53ni43iGbrg",
        "outputId": "602e262d-faa1-4b56-fa80-6c818b613da5"
      },
      "execution_count": 6,
      "outputs": [
        {
          "output_type": "execute_result",
          "data": {
            "text/plain": [
              "<pyspark.sql.session.SparkSession at 0x7f84fef0d550>"
            ],
            "text/html": [
              "\n",
              "            <div>\n",
              "                <p><b>SparkSession - in-memory</b></p>\n",
              "                \n",
              "        <div>\n",
              "            <p><b>SparkContext</b></p>\n",
              "\n",
              "            <p><a href=\"http://b70a83bcb1e5:4050\">Spark UI</a></p>\n",
              "\n",
              "            <dl>\n",
              "              <dt>Version</dt>\n",
              "                <dd><code>v3.3.2</code></dd>\n",
              "              <dt>Master</dt>\n",
              "                <dd><code>local[*]</code></dd>\n",
              "              <dt>AppName</dt>\n",
              "                <dd><code>pyspark-shell</code></dd>\n",
              "            </dl>\n",
              "        </div>\n",
              "        \n",
              "            </div>\n",
              "        "
            ]
          },
          "metadata": {},
          "execution_count": 6
        }
      ]
    },
    {
      "cell_type": "code",
      "source": [
        "!wget https://bin.equinox.io/c/4VmDzA7iaHb/ngrok-stable-linux-amd64.zip\n",
        "!unzip ngrok-stable-linux-amd64.zip\n",
        "get_ipython().system_raw('./ngrok http 4050 &')\n",
        "!curl -s http://localhost:4040/api/tunnels | python3 -c \\\n",
        "    \"import sys, json; print(json.load(sys.stdin)['tunnels'][0]['public_url'])\""
      ],
      "metadata": {
        "colab": {
          "base_uri": "https://localhost:8080/"
        },
        "id": "eLIDjZKmGeXI",
        "outputId": "626b6cbc-7ffd-4c13-d0f2-7638ec14aba1"
      },
      "execution_count": 8,
      "outputs": [
        {
          "output_type": "stream",
          "name": "stdout",
          "text": [
            "--2023-02-16 09:15:12--  https://bin.equinox.io/c/4VmDzA7iaHb/ngrok-stable-linux-amd64.zip\n",
            "Resolving bin.equinox.io (bin.equinox.io)... 18.205.222.128, 52.202.168.65, 54.161.241.46, ...\n",
            "Connecting to bin.equinox.io (bin.equinox.io)|18.205.222.128|:443... connected.\n",
            "HTTP request sent, awaiting response... 200 OK\n",
            "Length: 13921656 (13M) [application/octet-stream]\n",
            "Saving to: ‘ngrok-stable-linux-amd64.zip.1’\n",
            "\n",
            "ngrok-stable-linux- 100%[===================>]  13.28M  52.3MB/s    in 0.3s    \n",
            "\n",
            "2023-02-16 09:15:12 (52.3 MB/s) - ‘ngrok-stable-linux-amd64.zip.1’ saved [13921656/13921656]\n",
            "\n",
            "Archive:  ngrok-stable-linux-amd64.zip\n",
            "replace ngrok? [y]es, [n]o, [A]ll, [N]one, [r]ename: y\n",
            "  inflating: ngrok                   \n",
            "https://3227-34-74-143-222.ngrok.io\n"
          ]
        }
      ]
    },
    {
      "cell_type": "markdown",
      "source": [
        "Loading the dataset"
      ],
      "metadata": {
        "id": "LBHuF7VxKJ_w"
      }
    },
    {
      "cell_type": "code",
      "source": [
        "##spark dataframe both bomb and aircraft\n",
        "Bomb = spark.read.json(\"Bombing_Operations.json.gz\")"
      ],
      "metadata": {
        "id": "CMnyr-DfJcJP"
      },
      "execution_count": 9,
      "outputs": []
    },
    {
      "cell_type": "code",
      "source": [
        "Aircraft = spark.read.json(\"Aircraft_Glossary.json.gz\")"
      ],
      "metadata": {
        "id": "nzyxL2O-K1DW"
      },
      "execution_count": 10,
      "outputs": []
    },
    {
      "cell_type": "markdown",
      "source": [
        "Showing the dataset\n"
      ],
      "metadata": {
        "id": "2186mnemLKoW"
      }
    },
    {
      "cell_type": "code",
      "source": [
        "##show function shows the formatted output\n",
        "Bomb.show()\n"
      ],
      "metadata": {
        "colab": {
          "base_uri": "https://localhost:8080/"
        },
        "id": "1r9Vi-KQLMkO",
        "outputId": "f6f7434e-478e-432c-e2f6-a903e5f377b8"
      },
      "execution_count": 11,
      "outputs": [
        {
          "output_type": "stream",
          "name": "stdout",
          "text": [
            "+--------+--------------------+-----------+------------------+-----------+---------------+-------------+------------+--------------------+-------------------+\n",
            "|AirCraft| ContryFlyingMission|MissionDate|OperationSupported|PeriodOfDay|TakeoffLocation|TargetCountry|TimeOnTarget|          WeaponType|WeaponsLoadedWeight|\n",
            "+--------+--------------------+-----------+------------------+-----------+---------------+-------------+------------+--------------------+-------------------+\n",
            "|   EC-47|UNITED STATES OF ...| 1971-06-05|              null|          D|   TAN SON NHUT|     CAMBODIA|      1005.0|                null|                  0|\n",
            "|   EC-47|UNITED STATES OF ...| 1972-12-26|              null|          D|  NAKHON PHANOM|SOUTH VIETNAM|       530.0|                null|                  0|\n",
            "|    RF-4|UNITED STATES OF ...| 1973-07-28|              null|          D|       UDORN AB|         LAOS|       730.0|                null|                  0|\n",
            "|     A-1|UNITED STATES OF ...| 1970-02-02|              null|          N|  NAKHON PHANOM|         LAOS|      1415.0|BLU27 FIRE BOMB (...|              17400|\n",
            "|    A-37|     VIETNAM (SOUTH)| 1970-10-08|              null|          D|         DANANG|SOUTH VIETNAM|      1240.0|                null|                  0|\n",
            "|     F-4|UNITED STATES OF ...| 1970-11-25|              null|          D|        UBON AB|         LAOS|       650.0|MK 82 GP BOMB (50...|              31860|\n",
            "|     A-4|UNITED STATES OF ...| 1972-03-08|              null|          D|    TONKIN GULF|         LAOS|      1005.0|                null|                  0|\n",
            "|     F-4|UNITED STATES OF ...| 1971-12-27|              null|       null|       UDORN AB|         LAOS|         0.0|                null|                  0|\n",
            "|     A-7|UNITED STATES OF ...| 1972-05-24|              null|       null|    TONKIN GULF|NORTH VIETNAM|         0.0|                null|                  0|\n",
            "|   EC-47|UNITED STATES OF ...| 1972-09-12|              null|          D|   TAN SON NHUT|SOUTH VIETNAM|       710.0|                null|                  0|\n",
            "|   CH-53|UNITED STATES OF ...| 1974-06-13|              null|          N|  NAKHON PHANOM|     THAILAND|      1800.0|                null|                  0|\n",
            "|   CH-53|UNITED STATES OF ...| 1974-12-19|              null|          D|  NAKHON PHANOM|     THAILAND|       800.0|                null|                  0|\n",
            "|     O-1|     VIETNAM (SOUTH)| 1973-10-24|              null|          D|      NHA TRANG|SOUTH VIETNAM|       800.0|                null|                  0|\n",
            "|    UH-1|     VIETNAM (SOUTH)| 1974-03-19|              null|          D|        PHU CAT|SOUTH VIETNAM|       800.0|        CARGO (TONS)|                  0|\n",
            "|     C-7|UNITED STATES OF ...| 1970-05-08|              null|          D|   TAN SON NHUT|SOUTH VIETNAM|       800.0|                null|                  0|\n",
            "|     A-6|UNITED STATES OF ...| 1971-05-12|              null|          N|    TONKIN GULF|         LAOS|      1304.0|CBU24 AN PR/MT (B...|              33200|\n",
            "|   EB-66|UNITED STATES OF ...| 1971-12-03|              null|          N|          KORAT|         LAOS|      1445.0|                null|                  0|\n",
            "|    T-28|                LAOS| 1971-12-19|              null|          D|     SAVANAKHET|         LAOS|       230.0|                null|                  0|\n",
            "|     A-6|UNITED STATES OF ...| 1972-08-18|              null|       null|    TONKIN GULF|NORTH VIETNAM|         0.0|                null|                  0|\n",
            "|     A-7|UNITED STATES OF ...| 1972-10-15|              null|          D|    TONKIN GULF|NORTH VIETNAM|       110.0|                null|                  0|\n",
            "+--------+--------------------+-----------+------------------+-----------+---------------+-------------+------------+--------------------+-------------------+\n",
            "only showing top 20 rows\n",
            "\n"
          ]
        }
      ]
    },
    {
      "cell_type": "code",
      "source": [
        "##take shows the exactly formatted in json file. which is unformatted\n",
        "Bomb.take(5)"
      ],
      "metadata": {
        "colab": {
          "base_uri": "https://localhost:8080/"
        },
        "id": "-VKzTg7HLpDX",
        "outputId": "25099caa-11fa-41be-9849-267405bbb1d1"
      },
      "execution_count": 12,
      "outputs": [
        {
          "output_type": "execute_result",
          "data": {
            "text/plain": [
              "[Row(AirCraft='EC-47', ContryFlyingMission='UNITED STATES OF AMERICA', MissionDate='1971-06-05', OperationSupported=None, PeriodOfDay='D', TakeoffLocation='TAN SON NHUT', TargetCountry='CAMBODIA', TimeOnTarget=1005.0, WeaponType=None, WeaponsLoadedWeight=0),\n",
              " Row(AirCraft='EC-47', ContryFlyingMission='UNITED STATES OF AMERICA', MissionDate='1972-12-26', OperationSupported=None, PeriodOfDay='D', TakeoffLocation='NAKHON PHANOM', TargetCountry='SOUTH VIETNAM', TimeOnTarget=530.0, WeaponType=None, WeaponsLoadedWeight=0),\n",
              " Row(AirCraft='RF-4', ContryFlyingMission='UNITED STATES OF AMERICA', MissionDate='1973-07-28', OperationSupported=None, PeriodOfDay='D', TakeoffLocation='UDORN AB', TargetCountry='LAOS', TimeOnTarget=730.0, WeaponType=None, WeaponsLoadedWeight=0),\n",
              " Row(AirCraft='A-1', ContryFlyingMission='UNITED STATES OF AMERICA', MissionDate='1970-02-02', OperationSupported=None, PeriodOfDay='N', TakeoffLocation='NAKHON PHANOM', TargetCountry='LAOS', TimeOnTarget=1415.0, WeaponType='BLU27 FIRE BOMB (750)', WeaponsLoadedWeight=17400),\n",
              " Row(AirCraft='A-37', ContryFlyingMission='VIETNAM (SOUTH)', MissionDate='1970-10-08', OperationSupported=None, PeriodOfDay='D', TakeoffLocation='DANANG', TargetCountry='SOUTH VIETNAM', TimeOnTarget=1240.0, WeaponType=None, WeaponsLoadedWeight=0)]"
            ]
          },
          "metadata": {},
          "execution_count": 12
        }
      ]
    },
    {
      "cell_type": "markdown",
      "source": [
        "Showing the schema of the json file"
      ],
      "metadata": {
        "id": "1thKjuVsMGz3"
      }
    },
    {
      "cell_type": "code",
      "source": [
        "Bomb.printSchema()"
      ],
      "metadata": {
        "colab": {
          "base_uri": "https://localhost:8080/"
        },
        "id": "5yjh3jiSMFAO",
        "outputId": "5ca25b99-09ca-43a3-9e55-1f5e7b8d46e4"
      },
      "execution_count": 13,
      "outputs": [
        {
          "output_type": "stream",
          "name": "stdout",
          "text": [
            "root\n",
            " |-- AirCraft: string (nullable = true)\n",
            " |-- ContryFlyingMission: string (nullable = true)\n",
            " |-- MissionDate: string (nullable = true)\n",
            " |-- OperationSupported: string (nullable = true)\n",
            " |-- PeriodOfDay: string (nullable = true)\n",
            " |-- TakeoffLocation: string (nullable = true)\n",
            " |-- TargetCountry: string (nullable = true)\n",
            " |-- TimeOnTarget: double (nullable = true)\n",
            " |-- WeaponType: string (nullable = true)\n",
            " |-- WeaponsLoadedWeight: long (nullable = true)\n",
            "\n"
          ]
        }
      ]
    },
    {
      "cell_type": "markdown",
      "source": [
        "Previous work for aircraft funtion"
      ],
      "metadata": {
        "id": "4Ii7BvNsMaFF"
      }
    },
    {
      "cell_type": "code",
      "source": [
        "Aircraft.show()"
      ],
      "metadata": {
        "colab": {
          "base_uri": "https://localhost:8080/"
        },
        "id": "WNUo6BasMddF",
        "outputId": "ecffe11f-793b-465f-f1a5-e9c3ccb2ffc4"
      },
      "execution_count": 14,
      "outputs": [
        {
          "output_type": "stream",
          "name": "stdout",
          "text": [
            "+--------+--------------------+--------------------+\n",
            "|AirCraft|        AirCraftName|        AirCraftType|\n",
            "+--------+--------------------+--------------------+\n",
            "|     A-1|Douglas A-1 Skyra...|         Fighter Jet|\n",
            "|    A-26|Douglas A-26 Invader|        Light Bomber|\n",
            "|    A-37|Cessna A-37 Drago...|Light ground-atta...|\n",
            "|     A-4|McDonnell Douglas...|         Fighter Jet|\n",
            "|     A-5|North American A-...|          Bomber Jet|\n",
            "|     A-6|Grumman A-6 Intruder|     Attack Aircraft|\n",
            "|     A-7|  LTV A-7 Corsair II|     Attack Aircraft|\n",
            "|  AC-119|Fairchild AC-119 ...|Military Transpor...|\n",
            "|  AC-123|Fairchild C-123 P...|Military Transpor...|\n",
            "|  AC-130|Lockheed AC-130 S...|Fixed wing ground...|\n",
            "|   AC-47|Douglas AC-47 Spooky|Ground attack air...|\n",
            "|    AH-1| Bell AH-1 HueyCobra|          Helicopter|\n",
            "|     B-1| Rockwell B-1 Lancer|Heavy strategic b...|\n",
            "|    B-52| B-52 Stratofortress|    Strategic bomber|\n",
            "|    B-57|Martin B-57 Canberra|     Tactical Bomber|\n",
            "|    B-66|Douglas B-66 Dest...|        Light Bomber|\n",
            "|     C-1| Grumman C-1A Trader|           Transport|\n",
            "|   C-117|     C-117D Skytrain|           Transport|\n",
            "|   C-119|Fairchild C-119 F...|Military Transpor...|\n",
            "|   C-123|Fairchild C-123 P...|Military Transpor...|\n",
            "+--------+--------------------+--------------------+\n",
            "only showing top 20 rows\n",
            "\n"
          ]
        }
      ]
    },
    {
      "cell_type": "code",
      "source": [
        "Aircraft.take(5)"
      ],
      "metadata": {
        "colab": {
          "base_uri": "https://localhost:8080/"
        },
        "id": "KD7FfyAqMitO",
        "outputId": "de86b7ec-59b2-4a7d-cdc7-8de6cd940c86"
      },
      "execution_count": 15,
      "outputs": [
        {
          "output_type": "execute_result",
          "data": {
            "text/plain": [
              "[Row(AirCraft='A-1', AirCraftName='Douglas A-1 Skyraider', AirCraftType='Fighter Jet'),\n",
              " Row(AirCraft='A-26', AirCraftName='Douglas A-26 Invader', AirCraftType='Light Bomber'),\n",
              " Row(AirCraft='A-37', AirCraftName='Cessna A-37 Dragonfly', AirCraftType='Light ground-attack aircraft'),\n",
              " Row(AirCraft='A-4', AirCraftName='McDonnell Douglas A-4 Skyhawk', AirCraftType='Fighter Jet'),\n",
              " Row(AirCraft='A-5', AirCraftName='North American A-5 Vigilante', AirCraftType='Bomber Jet')]"
            ]
          },
          "metadata": {},
          "execution_count": 15
        }
      ]
    },
    {
      "cell_type": "code",
      "source": [
        "Aircraft.printSchema()"
      ],
      "metadata": {
        "colab": {
          "base_uri": "https://localhost:8080/"
        },
        "id": "Er7jjvwdMmZu",
        "outputId": "33d92faa-1d11-4913-c74d-4cf6703bb4b6"
      },
      "execution_count": 16,
      "outputs": [
        {
          "output_type": "stream",
          "name": "stdout",
          "text": [
            "root\n",
            " |-- AirCraft: string (nullable = true)\n",
            " |-- AirCraftName: string (nullable = true)\n",
            " |-- AirCraftType: string (nullable = true)\n",
            "\n"
          ]
        }
      ]
    },
    {
      "cell_type": "markdown",
      "source": [
        "Executing Queries -SELECT"
      ],
      "metadata": {
        "id": "V0pWvLuWM1d2"
      }
    },
    {
      "cell_type": "code",
      "source": [
        "#column select with SELECT funtion\n",
        "Bomb.select(\"AirCraft\",\"ContryFlyingMission\",\"MissionDate\").show()"
      ],
      "metadata": {
        "colab": {
          "base_uri": "https://localhost:8080/"
        },
        "id": "Uo_gsbpPM9Su",
        "outputId": "42e3cb65-206f-4852-87d0-b99ba4478e8b"
      },
      "execution_count": 17,
      "outputs": [
        {
          "output_type": "stream",
          "name": "stdout",
          "text": [
            "+--------+--------------------+-----------+\n",
            "|AirCraft| ContryFlyingMission|MissionDate|\n",
            "+--------+--------------------+-----------+\n",
            "|   EC-47|UNITED STATES OF ...| 1971-06-05|\n",
            "|   EC-47|UNITED STATES OF ...| 1972-12-26|\n",
            "|    RF-4|UNITED STATES OF ...| 1973-07-28|\n",
            "|     A-1|UNITED STATES OF ...| 1970-02-02|\n",
            "|    A-37|     VIETNAM (SOUTH)| 1970-10-08|\n",
            "|     F-4|UNITED STATES OF ...| 1970-11-25|\n",
            "|     A-4|UNITED STATES OF ...| 1972-03-08|\n",
            "|     F-4|UNITED STATES OF ...| 1971-12-27|\n",
            "|     A-7|UNITED STATES OF ...| 1972-05-24|\n",
            "|   EC-47|UNITED STATES OF ...| 1972-09-12|\n",
            "|   CH-53|UNITED STATES OF ...| 1974-06-13|\n",
            "|   CH-53|UNITED STATES OF ...| 1974-12-19|\n",
            "|     O-1|     VIETNAM (SOUTH)| 1973-10-24|\n",
            "|    UH-1|     VIETNAM (SOUTH)| 1974-03-19|\n",
            "|     C-7|UNITED STATES OF ...| 1970-05-08|\n",
            "|     A-6|UNITED STATES OF ...| 1971-05-12|\n",
            "|   EB-66|UNITED STATES OF ...| 1971-12-03|\n",
            "|    T-28|                LAOS| 1971-12-19|\n",
            "|     A-6|UNITED STATES OF ...| 1972-08-18|\n",
            "|     A-7|UNITED STATES OF ...| 1972-10-15|\n",
            "+--------+--------------------+-----------+\n",
            "only showing top 20 rows\n",
            "\n"
          ]
        }
      ]
    },
    {
      "cell_type": "code",
      "source": [
        "#another way\n",
        "b1 = Bomb.select(\"AirCraft\",\"ContryFlyingMission\",\"MissionDate\")\n",
        "b1.show()"
      ],
      "metadata": {
        "colab": {
          "base_uri": "https://localhost:8080/"
        },
        "id": "QEE9zbqKN16_",
        "outputId": "b52486ac-5950-490f-ed77-25f06eef9665"
      },
      "execution_count": 18,
      "outputs": [
        {
          "output_type": "stream",
          "name": "stdout",
          "text": [
            "+--------+--------------------+-----------+\n",
            "|AirCraft| ContryFlyingMission|MissionDate|\n",
            "+--------+--------------------+-----------+\n",
            "|   EC-47|UNITED STATES OF ...| 1971-06-05|\n",
            "|   EC-47|UNITED STATES OF ...| 1972-12-26|\n",
            "|    RF-4|UNITED STATES OF ...| 1973-07-28|\n",
            "|     A-1|UNITED STATES OF ...| 1970-02-02|\n",
            "|    A-37|     VIETNAM (SOUTH)| 1970-10-08|\n",
            "|     F-4|UNITED STATES OF ...| 1970-11-25|\n",
            "|     A-4|UNITED STATES OF ...| 1972-03-08|\n",
            "|     F-4|UNITED STATES OF ...| 1971-12-27|\n",
            "|     A-7|UNITED STATES OF ...| 1972-05-24|\n",
            "|   EC-47|UNITED STATES OF ...| 1972-09-12|\n",
            "|   CH-53|UNITED STATES OF ...| 1974-06-13|\n",
            "|   CH-53|UNITED STATES OF ...| 1974-12-19|\n",
            "|     O-1|     VIETNAM (SOUTH)| 1973-10-24|\n",
            "|    UH-1|     VIETNAM (SOUTH)| 1974-03-19|\n",
            "|     C-7|UNITED STATES OF ...| 1970-05-08|\n",
            "|     A-6|UNITED STATES OF ...| 1971-05-12|\n",
            "|   EB-66|UNITED STATES OF ...| 1971-12-03|\n",
            "|    T-28|                LAOS| 1971-12-19|\n",
            "|     A-6|UNITED STATES OF ...| 1972-08-18|\n",
            "|     A-7|UNITED STATES OF ...| 1972-10-15|\n",
            "+--------+--------------------+-----------+\n",
            "only showing top 20 rows\n",
            "\n"
          ]
        }
      ]
    },
    {
      "cell_type": "markdown",
      "source": [
        "Executing Queries -WHERE"
      ],
      "metadata": {
        "id": "_Km0uSjnN7ve"
      }
    },
    {
      "cell_type": "code",
      "source": [
        "b1.where(\"ContryFlyingMission == 'VIETNAM (SOUTH)' \").show()"
      ],
      "metadata": {
        "colab": {
          "base_uri": "https://localhost:8080/"
        },
        "id": "yp6TB3WSOAGt",
        "outputId": "e8fe7745-903f-477b-f5c6-a42287b6e222"
      },
      "execution_count": 19,
      "outputs": [
        {
          "output_type": "stream",
          "name": "stdout",
          "text": [
            "+--------+-------------------+-----------+\n",
            "|AirCraft|ContryFlyingMission|MissionDate|\n",
            "+--------+-------------------+-----------+\n",
            "|    A-37|    VIETNAM (SOUTH)| 1970-10-08|\n",
            "|     O-1|    VIETNAM (SOUTH)| 1973-10-24|\n",
            "|    UH-1|    VIETNAM (SOUTH)| 1974-03-19|\n",
            "|   CH-47|    VIETNAM (SOUTH)| 1971-03-29|\n",
            "|   AC-47|    VIETNAM (SOUTH)| 1971-09-20|\n",
            "|    UH-1|    VIETNAM (SOUTH)| 1972-08-22|\n",
            "|    UH-1|    VIETNAM (SOUTH)| 1973-05-13|\n",
            "|   CH-47|    VIETNAM (SOUTH)| 1975-01-04|\n",
            "|    A-37|    VIETNAM (SOUTH)| 1971-02-08|\n",
            "|   C-119|    VIETNAM (SOUTH)| 1970-09-17|\n",
            "|    A-37|    VIETNAM (SOUTH)| 1971-04-02|\n",
            "|     A-1|    VIETNAM (SOUTH)| 1972-04-29|\n",
            "|     A-1|    VIETNAM (SOUTH)| 1972-08-02|\n",
            "|    UH-1|    VIETNAM (SOUTH)| 1973-10-24|\n",
            "|    UH-1|    VIETNAM (SOUTH)| 1974-12-16|\n",
            "|     A-1|    VIETNAM (SOUTH)| 1970-04-27|\n",
            "|    UH-1|    VIETNAM (SOUTH)| 1975-02-10|\n",
            "|    A-37|    VIETNAM (SOUTH)| 1971-03-03|\n",
            "|     O-1|    VIETNAM (SOUTH)| 1970-08-29|\n",
            "|     A-1|    VIETNAM (SOUTH)| 1971-07-29|\n",
            "+--------+-------------------+-----------+\n",
            "only showing top 20 rows\n",
            "\n"
          ]
        }
      ]
    },
    {
      "cell_type": "code",
      "source": [
        "b1.where(\"ContryFlyingMission == 'VIETNAM (SOUTH)' OR ContryFlyingMission == 'LAOS' \").show()"
      ],
      "metadata": {
        "colab": {
          "base_uri": "https://localhost:8080/"
        },
        "id": "pjRUS0iPPEZl",
        "outputId": "7223c0ed-2c78-4069-e9d0-7ae2ddf37e31"
      },
      "execution_count": 20,
      "outputs": [
        {
          "output_type": "stream",
          "name": "stdout",
          "text": [
            "+--------+-------------------+-----------+\n",
            "|AirCraft|ContryFlyingMission|MissionDate|\n",
            "+--------+-------------------+-----------+\n",
            "|    A-37|    VIETNAM (SOUTH)| 1970-10-08|\n",
            "|     O-1|    VIETNAM (SOUTH)| 1973-10-24|\n",
            "|    UH-1|    VIETNAM (SOUTH)| 1974-03-19|\n",
            "|    T-28|               LAOS| 1971-12-19|\n",
            "|   CH-47|    VIETNAM (SOUTH)| 1971-03-29|\n",
            "|   AC-47|    VIETNAM (SOUTH)| 1971-09-20|\n",
            "|    UH-1|    VIETNAM (SOUTH)| 1972-08-22|\n",
            "|    UH-1|    VIETNAM (SOUTH)| 1973-05-13|\n",
            "|   CH-47|    VIETNAM (SOUTH)| 1975-01-04|\n",
            "|    A-37|    VIETNAM (SOUTH)| 1971-02-08|\n",
            "|    T-28|               LAOS| 1972-05-07|\n",
            "|   C-119|    VIETNAM (SOUTH)| 1970-09-17|\n",
            "|    A-37|    VIETNAM (SOUTH)| 1971-04-02|\n",
            "|     A-1|    VIETNAM (SOUTH)| 1972-04-29|\n",
            "|     A-1|    VIETNAM (SOUTH)| 1972-08-02|\n",
            "|    UH-1|    VIETNAM (SOUTH)| 1973-10-24|\n",
            "|    UH-1|    VIETNAM (SOUTH)| 1974-12-16|\n",
            "|     A-1|    VIETNAM (SOUTH)| 1970-04-27|\n",
            "|    UH-1|    VIETNAM (SOUTH)| 1975-02-10|\n",
            "|    A-37|    VIETNAM (SOUTH)| 1971-03-03|\n",
            "+--------+-------------------+-----------+\n",
            "only showing top 20 rows\n",
            "\n"
          ]
        }
      ]
    },
    {
      "cell_type": "markdown",
      "source": [
        "Executing Quesries in form of SQL"
      ],
      "metadata": {
        "id": "2pl-rEP2PjJ-"
      }
    },
    {
      "cell_type": "code",
      "source": [
        "#creating view .... as we know form database. we had to create a view from table to do quries"
      ],
      "metadata": {
        "id": "-rRVmJcsPnt9"
      },
      "execution_count": null,
      "outputs": []
    },
    {
      "cell_type": "code",
      "source": [
        "Bomb.createOrReplaceTempView(\"Bomb\")\n",
        "query = \"\"\"\n",
        "        SELECT AirCraft,ContryFlyingMission,MissionDate\n",
        "        FROM Bomb\n",
        "        WHERE ContryFlyingMission == 'VIETNAM (SOUTH)' OR ContryFlyingMission == 'LAOS'\n",
        "        \"\"\"\n",
        "\n",
        "result=spark.sql(query)\n",
        "result.show()"
      ],
      "metadata": {
        "colab": {
          "base_uri": "https://localhost:8080/"
        },
        "id": "KssntaF6Pxrd",
        "outputId": "2f596432-7e42-4324-a827-94e75265c686"
      },
      "execution_count": 21,
      "outputs": [
        {
          "output_type": "stream",
          "name": "stdout",
          "text": [
            "+--------+-------------------+-----------+\n",
            "|AirCraft|ContryFlyingMission|MissionDate|\n",
            "+--------+-------------------+-----------+\n",
            "|    A-37|    VIETNAM (SOUTH)| 1970-10-08|\n",
            "|     O-1|    VIETNAM (SOUTH)| 1973-10-24|\n",
            "|    UH-1|    VIETNAM (SOUTH)| 1974-03-19|\n",
            "|    T-28|               LAOS| 1971-12-19|\n",
            "|   CH-47|    VIETNAM (SOUTH)| 1971-03-29|\n",
            "|   AC-47|    VIETNAM (SOUTH)| 1971-09-20|\n",
            "|    UH-1|    VIETNAM (SOUTH)| 1972-08-22|\n",
            "|    UH-1|    VIETNAM (SOUTH)| 1973-05-13|\n",
            "|   CH-47|    VIETNAM (SOUTH)| 1975-01-04|\n",
            "|    A-37|    VIETNAM (SOUTH)| 1971-02-08|\n",
            "|    T-28|               LAOS| 1972-05-07|\n",
            "|   C-119|    VIETNAM (SOUTH)| 1970-09-17|\n",
            "|    A-37|    VIETNAM (SOUTH)| 1971-04-02|\n",
            "|     A-1|    VIETNAM (SOUTH)| 1972-04-29|\n",
            "|     A-1|    VIETNAM (SOUTH)| 1972-08-02|\n",
            "|    UH-1|    VIETNAM (SOUTH)| 1973-10-24|\n",
            "|    UH-1|    VIETNAM (SOUTH)| 1974-12-16|\n",
            "|     A-1|    VIETNAM (SOUTH)| 1970-04-27|\n",
            "|    UH-1|    VIETNAM (SOUTH)| 1975-02-10|\n",
            "|    A-37|    VIETNAM (SOUTH)| 1971-03-03|\n",
            "+--------+-------------------+-----------+\n",
            "only showing top 20 rows\n",
            "\n"
          ]
        }
      ]
    },
    {
      "cell_type": "code",
      "source": [
        "query1 = \"\"\" SELECT COUNT (*) AS NUM_OF_ROWS FROM Bomb\"\"\"\n",
        "result1 = spark.sql(query1)\n",
        "result1.show()"
      ],
      "metadata": {
        "colab": {
          "base_uri": "https://localhost:8080/"
        },
        "id": "ug6D7ykDQs4d",
        "outputId": "0949ed8d-00c4-4bc8-f82a-963056d6192f"
      },
      "execution_count": 22,
      "outputs": [
        {
          "output_type": "stream",
          "name": "stdout",
          "text": [
            "+-----------+\n",
            "|NUM_OF_ROWS|\n",
            "+-----------+\n",
            "|    4400775|\n",
            "+-----------+\n",
            "\n"
          ]
        }
      ]
    },
    {
      "cell_type": "markdown",
      "source": [
        "LAB TASK START"
      ],
      "metadata": {
        "id": "kGdEQtAyTu2k"
      }
    },
    {
      "cell_type": "code",
      "source": [
        "#1\n",
        "query2 = \"\"\"\n",
        "          SELECT AirCraft,ContryFlyingMission,TargetCountry\n",
        "          FROM Bomb\n",
        "          WHERE TimeOnTarget< '1000'\n",
        "          \"\"\"\n",
        "result2=spark.sql(query2)\n",
        "result2.show()"
      ],
      "metadata": {
        "colab": {
          "base_uri": "https://localhost:8080/"
        },
        "id": "WE9BdLL9Tumc",
        "outputId": "88ef96c9-a812-449e-d516-6fac592969f7"
      },
      "execution_count": 23,
      "outputs": [
        {
          "output_type": "stream",
          "name": "stdout",
          "text": [
            "+--------+--------------------+-------------+\n",
            "|AirCraft| ContryFlyingMission|TargetCountry|\n",
            "+--------+--------------------+-------------+\n",
            "|   EC-47|UNITED STATES OF ...|SOUTH VIETNAM|\n",
            "|    RF-4|UNITED STATES OF ...|         LAOS|\n",
            "|     F-4|UNITED STATES OF ...|         LAOS|\n",
            "|     F-4|UNITED STATES OF ...|         LAOS|\n",
            "|     A-7|UNITED STATES OF ...|NORTH VIETNAM|\n",
            "|   EC-47|UNITED STATES OF ...|SOUTH VIETNAM|\n",
            "|   CH-53|UNITED STATES OF ...|     THAILAND|\n",
            "|     O-1|     VIETNAM (SOUTH)|SOUTH VIETNAM|\n",
            "|    UH-1|     VIETNAM (SOUTH)|SOUTH VIETNAM|\n",
            "|     C-7|UNITED STATES OF ...|SOUTH VIETNAM|\n",
            "|    T-28|                LAOS|         LAOS|\n",
            "|     A-6|UNITED STATES OF ...|NORTH VIETNAM|\n",
            "|     A-7|UNITED STATES OF ...|NORTH VIETNAM|\n",
            "|   C-123|UNITED STATES OF ...|SOUTH VIETNAM|\n",
            "|   CH-47|     VIETNAM (SOUTH)|SOUTH VIETNAM|\n",
            "|     F-4|UNITED STATES OF ...|SOUTH VIETNAM|\n",
            "|   AU-24|       KOREA (SOUTH)|     CAMBODIA|\n",
            "|  AC-130|UNITED STATES OF ...|     CAMBODIA|\n",
            "|    A-37|UNITED STATES OF ...|     CAMBODIA|\n",
            "|     F-4|UNITED STATES OF ...|         LAOS|\n",
            "+--------+--------------------+-------------+\n",
            "only showing top 20 rows\n",
            "\n"
          ]
        }
      ]
    },
    {
      "cell_type": "code",
      "source": [
        "#2\n",
        "query3 = \"\"\"\n",
        "          SELECT TargetCountry,  COUNT(TargetCountry) AS Attack_time\n",
        "          FROM Bomb\n",
        "          GROUP BY TargetCountry\n",
        "          ORDER BY COUNT(TargetCountry) DESC\n",
        "          \"\"\"\n",
        "result3=spark.sql(query3)\n",
        "result3.show()"
      ],
      "metadata": {
        "colab": {
          "base_uri": "https://localhost:8080/"
        },
        "id": "YSS21etQU3n9",
        "outputId": "798ec8ec-9195-4a1f-843a-ef8f7fbb96a5"
      },
      "execution_count": 58,
      "outputs": [
        {
          "output_type": "stream",
          "name": "stdout",
          "text": [
            "+--------------+-----------+\n",
            "| TargetCountry|Attack_time|\n",
            "+--------------+-----------+\n",
            "| SOUTH VIETNAM|    2172403|\n",
            "|          LAOS|    1254695|\n",
            "| NORTH VIETNAM|     694269|\n",
            "|      CAMBODIA|     218788|\n",
            "|      THAILAND|      60486|\n",
            "|WESTPAC WATERS|         74|\n",
            "|       UNKNOWN|         59|\n",
            "|   PHILLIPINES|          1|\n",
            "+--------------+-----------+\n",
            "\n"
          ]
        }
      ]
    },
    {
      "cell_type": "code",
      "source": [
        "#3\n",
        "result3.createOrReplaceTempView(\"result3\")\n",
        "query4=\"\"\"\n",
        "        SELECT Attack_time,TargetCountry\n",
        "        FROM result3\n",
        "        WHERE Attack_time = (SELECT MAX(Attack_time) FROM result3)\n",
        "        \"\"\"\n",
        "result4=spark.sql(query4)\n",
        "result4.show()"
      ],
      "metadata": {
        "colab": {
          "base_uri": "https://localhost:8080/"
        },
        "id": "XinMke3xpHjP",
        "outputId": "bc8e4cc5-0913-4c7e-83b8-18b67287eebe"
      },
      "execution_count": 79,
      "outputs": [
        {
          "output_type": "stream",
          "name": "stdout",
          "text": [
            "+-----------+-------------+\n",
            "|Attack_time|TargetCountry|\n",
            "+-----------+-------------+\n",
            "|    2172403|SOUTH VIETNAM|\n",
            "+-----------+-------------+\n",
            "\n"
          ]
        }
      ]
    },
    {
      "cell_type": "code",
      "source": [
        "#4\n",
        "query5 = \"\"\"\n",
        "          SELECT ContryFlyingMission,  COUNT(ContryFlyingMission) AS Most_Attack_time\n",
        "          FROM Bomb\n",
        "          GROUP BY ContryFlyingMission\n",
        "          ORDER BY COUNT(ContryFlyingMission) DESC\n",
        "          \"\"\"\n",
        "result5=spark.sql(query5)\n",
        "result5.createOrReplaceTempView(\"result5\")\n",
        "\n",
        "query6 = \"\"\"\n",
        "          SELECT ContryFlyingMission, Most_Attack_time\n",
        "          FROM result5\n",
        "          WHERE Most_Attack_time = (SELECT MAX(Most_Attack_time) FROM result5 )\n",
        "          \"\"\"\n",
        "result6=spark.sql(query6)\n",
        "result6.show()"
      ],
      "metadata": {
        "colab": {
          "base_uri": "https://localhost:8080/"
        },
        "id": "-wSaue95skw-",
        "outputId": "1f2c730a-c395-471d-b12b-ba128fef35e6"
      },
      "execution_count": 81,
      "outputs": [
        {
          "output_type": "stream",
          "name": "stdout",
          "text": [
            "+--------------------+----------------+\n",
            "| ContryFlyingMission|Most_Attack_time|\n",
            "+--------------------+----------------+\n",
            "|UNITED STATES OF ...|         3708997|\n",
            "+--------------------+----------------+\n",
            "\n"
          ]
        }
      ]
    },
    {
      "cell_type": "code",
      "source": [
        "#5\n",
        "query7 = \"\"\"\n",
        "          SELECT TakeoffLocation, COUNT(TakeoffLocation)\n",
        "          FROM Bomb\n",
        "          GROUP BY TakeoffLocation\n",
        "          \"\"\"\n",
        "result7=spark.sql(query7)\n",
        "result7.show()"
      ],
      "metadata": {
        "colab": {
          "base_uri": "https://localhost:8080/"
        },
        "id": "0TzpaSl_078U",
        "outputId": "fc5ce732-59fb-4b81-a77e-95a881c5e402"
      },
      "execution_count": 84,
      "outputs": [
        {
          "output_type": "stream",
          "name": "stdout",
          "text": [
            "+--------------------+----------------------+\n",
            "|     TakeoffLocation|count(TakeoffLocation)|\n",
            "+--------------------+----------------------+\n",
            "|        LOUANG PHRAB|                  5164|\n",
            "|        TAN SON NHUT|                311872|\n",
            "|            KHE SANH|                    27|\n",
            "|           NHA TRANG|                 56818|\n",
            "|          WESTPAC 59|                   481|\n",
            "|          KADENA AFB|                  5413|\n",
            "|         TONKIN GULF|                194191|\n",
            "|           VINH BINH|                    10|\n",
            "|           AN SON NH|                     3|\n",
            "|           LONG TIEN|                  9499|\n",
            "|  CORAL SEA (CVA-43)|                  1338|\n",
            "|          WESTPAC 66|                 26003|\n",
            "|          WESTPAC 65|                 24407|\n",
            "|             U TAPAO|                 85041|\n",
            "|          WESTPAC NH|                     5|\n",
            "|                null|                     0|\n",
            "|   ORISKANY (CVA-34)|                  8793|\n",
            "|            QUI NHON|                  2386|\n",
            "|           QUANG TRI|                   447|\n",
            "|FRANKLIN D ROOSEV...|                  2001|\n",
            "+--------------------+----------------------+\n",
            "only showing top 20 rows\n",
            "\n"
          ]
        }
      ]
    },
    {
      "cell_type": "code",
      "source": [
        "#7\n",
        "Aircraft.createOrReplaceTempView(\"Aircraft\")\n",
        "query8=\"\"\"\n",
        "      SELECT AirCraftType, COUNT(AirCraftType)\n",
        "      FROM Aircraft\n",
        "      GROUP BY AirCraftType\n",
        "      \n",
        "        \"\"\" \n",
        "result8=spark.sql(query8)\n",
        "result8.show()"
      ],
      "metadata": {
        "colab": {
          "base_uri": "https://localhost:8080/"
        },
        "id": "vNyJ2T5c2hGj",
        "outputId": "2c7237e4-c4e8-41d7-f5e6-a4fba37a0e90"
      },
      "execution_count": 92,
      "outputs": [
        {
          "output_type": "stream",
          "name": "stdout",
          "text": [
            "+--------------------+-------------------+\n",
            "|        AirCraftType|count(AirCraftType)|\n",
            "+--------------------+-------------------+\n",
            "|Carrier-based Fig...|                  1|\n",
            "|  Utility Prop plane|                  1|\n",
            "|Early Warning air...|                  2|\n",
            "|Military Transpor...|                 11|\n",
            "|Heavy strategic b...|                  1|\n",
            "|Airliner/transpor...|                  3|\n",
            "|        Light Bomber|                  3|\n",
            "|  Transport Aircraft|                  1|\n",
            "|    Cargo Prop plane|                  1|\n",
            "| Airliner/ Transport|                  1|\n",
            "|Airborne early wa...|                  1|\n",
            "|  Jet Fighter Bomber|                  1|\n",
            "|Weather reconnais...|                  1|\n",
            "|Light Observation...|                  1|\n",
            "|Fixed wing ground...|                  1|\n",
            "|        Fighter jet |                  1|\n",
            "|Photographic reco...|                  1|\n",
            "| Light Utility Plane|                  3|\n",
            "|Close air support...|                  1|\n",
            "|     Tactical Bomber|                  1|\n",
            "+--------------------+-------------------+\n",
            "only showing top 20 rows\n",
            "\n"
          ]
        }
      ]
    },
    {
      "cell_type": "code",
      "source": [
        "#8\n",
        "query9= \"\"\"\n",
        "        SELECT AirCraftName, TargetCountry\n",
        "        FROM Bomb B, Aircraft A\n",
        "        WHERE B.AirCraft = A.AirCraft\n",
        "        \"\"\"\n",
        "result9 = spark.sql(query9)\n",
        "result9.show()"
      ],
      "metadata": {
        "colab": {
          "base_uri": "https://localhost:8080/"
        },
        "id": "npKMAZLy6cXS",
        "outputId": "b9dc71a9-060e-4c7d-94b2-1fecad7b3a77"
      },
      "execution_count": 96,
      "outputs": [
        {
          "output_type": "stream",
          "name": "stdout",
          "text": [
            "+--------------------+-------------+\n",
            "|        AirCraftName|TargetCountry|\n",
            "+--------------------+-------------+\n",
            "|Douglas C-47 Skyt...|     CAMBODIA|\n",
            "|Douglas C-47 Skyt...|SOUTH VIETNAM|\n",
            "|McDonnell F-4 Pha...|         LAOS|\n",
            "|Douglas A-1 Skyra...|         LAOS|\n",
            "|Cessna A-37 Drago...|SOUTH VIETNAM|\n",
            "|McDonnell Douglas...|         LAOS|\n",
            "|McDonnell Douglas...|         LAOS|\n",
            "|McDonnell Douglas...|         LAOS|\n",
            "|  LTV A-7 Corsair II|NORTH VIETNAM|\n",
            "|Douglas C-47 Skyt...|SOUTH VIETNAM|\n",
            "|Sikorsky CH-53 Se...|     THAILAND|\n",
            "|Sikorsky CH-53 Se...|     THAILAND|\n",
            "| Cessna O-1 Bird Dog|SOUTH VIETNAM|\n",
            "|  Bell UH-1 Iroquois|SOUTH VIETNAM|\n",
            "|       C-7A Caribou |SOUTH VIETNAM|\n",
            "|Grumman A-6 Intruder|         LAOS|\n",
            "|Douglas B-66 Dest...|         LAOS|\n",
            "| T-28 Trojan Trainer|         LAOS|\n",
            "|Grumman A-6 Intruder|NORTH VIETNAM|\n",
            "|  LTV A-7 Corsair II|NORTH VIETNAM|\n",
            "+--------------------+-------------+\n",
            "only showing top 20 rows\n",
            "\n"
          ]
        }
      ]
    },
    {
      "cell_type": "code",
      "source": [
        "result9.createOrReplaceTempView(\"result9\")\n",
        "query10 = \"\"\"\n",
        "            SELECT AirCraftName, COUNT(AirCraftName) AS Most_used\n",
        "            FROM result9\n",
        "            GROUP BY AirCraftName\n",
        "          \"\"\"\n",
        "result10 = spark.sql(query10)\n",
        "result10.show()\n"
      ],
      "metadata": {
        "colab": {
          "base_uri": "https://localhost:8080/"
        },
        "id": "csmwc6oVBFFo",
        "outputId": "d6bf9afa-ad27-49d0-9a23-12bb3b8711e7"
      },
      "execution_count": 99,
      "outputs": [
        {
          "output_type": "stream",
          "name": "stdout",
          "text": [
            "+--------------------+---------+\n",
            "|        AirCraftName|Most_used|\n",
            "+--------------------+---------+\n",
            "|        Douglas DC-4|       55|\n",
            "|Sikorsky SH-3 Sea...|      110|\n",
            "|Douglas B-66 Dest...|    35790|\n",
            "|  Beechcraft Bonanza|     5782|\n",
            "|Cessna A-37 Drago...|   267457|\n",
            "|     Lockheed WC-130|     1223|\n",
            "| Douglas A-4 Skyhawk|     5954|\n",
            "|Sikorsky HH-53 Su...|     6903|\n",
            "|McDonnell Douglas...|   909362|\n",
            "| Grumman OV-1 Mohawk|       10|\n",
            "|Fairchild C-123 P...|    24045|\n",
            "|Martin B-57 Canberra|    82219|\n",
            "|    EA-3B Skywarrior|     6450|\n",
            "|Cessna T-41 Mesca...|      229|\n",
            "|        Douglas DC-6|      342|\n",
            "|Douglas A-26 Invader|    36242|\n",
            "|  Grumman E-1 Tracer|     1498|\n",
            "|Convair T-29 Sama...|      456|\n",
            "|       C-7A Caribou |    13769|\n",
            "|Grumman A-6 Intruder|   144601|\n",
            "+--------------------+---------+\n",
            "only showing top 20 rows\n",
            "\n"
          ]
        }
      ]
    },
    {
      "cell_type": "code",
      "source": [
        "result10.createOrReplaceTempView(\"result10\")\n",
        "query11 = \"\"\"\n",
        "            SELECT AirCraftName,Most_used\n",
        "            FROM result10\n",
        "            WHERE Most_used==(SELECT MAX(Most_used) FROM result10 )\n",
        "          \"\"\"\n",
        "result11 = spark.sql(query11)\n",
        "result11.show()"
      ],
      "metadata": {
        "colab": {
          "base_uri": "https://localhost:8080/"
        },
        "id": "LgTLiufPCBnQ",
        "outputId": "d7c90c62-b2a7-4e68-daed-8192e0dc82fe"
      },
      "execution_count": 101,
      "outputs": [
        {
          "output_type": "stream",
          "name": "stdout",
          "text": [
            "+--------------------+---------+\n",
            "|        AirCraftName|Most_used|\n",
            "+--------------------+---------+\n",
            "|McDonnell Douglas...|   909362|\n",
            "+--------------------+---------+\n",
            "\n"
          ]
        }
      ]
    },
    {
      "cell_type": "code",
      "source": [
        "#6\n",
        "query12 = \"\"\"\n",
        "            SELECT COUNT(AirCraftType)\n",
        "            FROM Aircraft\n",
        "            WHERE AirCraftType == 'Fighter Jet'\n",
        "          \"\"\"\n",
        "result12= spark.sql(query12)\n",
        "result12.show()"
      ],
      "metadata": {
        "colab": {
          "base_uri": "https://localhost:8080/"
        },
        "id": "XbcZBf-rDH-Y",
        "outputId": "cd2b064f-6faf-41c3-f809-6a34b90be13c"
      },
      "execution_count": 107,
      "outputs": [
        {
          "output_type": "stream",
          "name": "stdout",
          "text": [
            "+-------------------+\n",
            "|count(AirCraftType)|\n",
            "+-------------------+\n",
            "|                 10|\n",
            "+-------------------+\n",
            "\n"
          ]
        }
      ]
    }
  ]
}